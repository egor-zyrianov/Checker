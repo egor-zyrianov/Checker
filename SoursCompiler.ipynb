{
 "cells": [
  {
   "cell_type": "code",
   "execution_count": null,
   "metadata": {},
   "outputs": [],
   "source": [
    "import pandas as pd\n",
    "import os\n",
    "from datetime import datetime\n",
    "pd.options.display.float_format = '{:,.2f}'.format"
   ]
  },
  {
   "cell_type": "code",
   "execution_count": null,
   "metadata": {},
   "outputs": [],
   "source": [
    "def filesearch(name=''):\n",
    "    currentd = os.getcwd()\n",
    "    for root, dirs, files in os.walk(currentd):\n",
    "        if name in files:\n",
    "            return os.path.join(root,name)\n",
    "        if name in dirs:\n",
    "            return os.path.join(root,name)\n",
    "\n",
    "def dateform(d):\n",
    "    date = str(d)\n",
    "    date = date.split(' ')[0]\n",
    "    date = date.split('-')\n",
    "    date = date[0] + date[1]\n",
    "    return(date)\n",
    "        \n",
    "def valform(v):\n",
    "    temp = v.replace('.', '').replace(',','.')\n",
    "    try:\n",
    "        if '-' in temp:\n",
    "            temp =-float(temp)\n",
    "        else:\n",
    "            temp = float(temp)\n",
    "    except ValueError:\n",
    "        print('UnconvertableAmount:', v)\n",
    "        pass\n",
    "    return(temp)\n",
    "        \n",
    "def filelist(mode = 1):\n",
    "    check_list = []\n",
    "    for root, dirs, files in os.walk(filesearch('2021')):\n",
    "        check_list.extend(files)\n",
    "    CL = []\n",
    "    for check in check_list:\n",
    "        if '2021' in check:\n",
    "            name = check.split(' ')\n",
    "            temp1 = name[0]\n",
    "            temp2 = ' '.join(x for x in name[1:-1])\n",
    "            temp3 = valform(name[-1].split('.')[0])\n",
    "            if (len(name)<3 or type(temp3) == str):\n",
    "                continue\n",
    "            CL.append((temp1,temp2,temp3))\n",
    "    if mode == 0:\n",
    "        return(check_list)\n",
    "    return(CL)\n",
    "\n",
    "def writelist(check_list):\n",
    "    checks=check_list\n",
    "    checks=map(lambda x:x+'\\n', checks)\n",
    "    with open('UsedntChecks.txt','w') as txt:\n",
    "        txt.writelines(checks)"
   ]
  },
  {
   "cell_type": "code",
   "execution_count": null,
   "metadata": {},
   "outputs": [],
   "source": [
    "'''Index(['Naziv nal./prej.', 'Račun', 'Znesek', 'Opis', 'Razlog zavrnitve',\n",
    "       'Ref. prej.', 'Ref. nalog.', 'Datum knj.', 'Datum val.'],\n",
    "      dtype='object')'''\n",
    "\n",
    "name_list = pd.read_csv(filesearch('name_list.txt'), sep=' = ', engine='python')\n",
    "file = pd.read_excel(filesearch('2021 izpis.xlsx'))\n",
    "file.insert(file.columns.size, 'file', None)\n",
    "check_list = filelist()\n",
    "#file"
   ]
  },
  {
   "cell_type": "code",
   "execution_count": null,
   "metadata": {},
   "outputs": [],
   "source": [
    "def znesekfix(file):\n",
    "    fixed = file\n",
    "    for i, value in fixed.iterrows():\n",
    "        if type(value['Znesek']) == str:\n",
    "            value['Znesek'] = valform(value['Znesek'])\n",
    "            fixed.iloc[i] = value\n",
    "    return(fixed)\n",
    "\n",
    "def alias(file, name_list):\n",
    "    df = file\n",
    "    aliases = {}\n",
    "    for i, row in name_list.iterrows():\n",
    "        aliases[row['old']] = row['new']\n",
    "    for i, row in df.iterrows():\n",
    "        if row['Naziv nal./prej.'] in aliases:\n",
    "            row['Naziv nal./prej.'] = aliases[row['Naziv nal./prej.']]\n",
    "        df.iloc[i] = row\n",
    "    return(df)\n",
    "\n",
    "def merge(file, check_list, mode = 1):\n",
    "    merged = file\n",
    "    usedntch = check_list\n",
    "    for i, row in file.iterrows():\n",
    "        for check in check_list:\n",
    "            cond1 =-check[-1] == row['Znesek']\n",
    "            cond2 = check[1]  == row['Naziv nal./prej.']\n",
    "            cond3 = check[0][:6] == dateform(row['Datum val.'])\n",
    "            if cond1 and cond2 and cond3:\n",
    "                name = ' '.join(x for x in check[:-1]) + ' ' +str(check[-1])\n",
    "                row['file'] = name\n",
    "                merged.iloc[i] = row\n",
    "                usedntch.remove(check)\n",
    "    if mode == 0:\n",
    "        return((merged, usedntch))\n",
    "    return(merged)"
   ]
  },
  {
   "cell_type": "code",
   "execution_count": null,
   "metadata": {
    "scrolled": true
   },
   "outputs": [],
   "source": [
    "date = datetime.now().strftime('%Y%m%d')\n",
    "DF = alias(file, name_list)\n",
    "DF = znesekfix(DF)\n",
    "DF = DF.loc[DF['Naziv nal./prej.'] != 'IGNORE'].reset_index(drop=True)\n",
    "DF = merge(DF, check_list, mode=0)\n",
    "#DF[0].to_excel(str(date) +'CompilerResult.xlsx')\n",
    "DF[1]"
   ]
  },
  {
   "cell_type": "code",
   "execution_count": null,
   "metadata": {},
   "outputs": [],
   "source": []
  }
 ],
 "metadata": {
  "kernelspec": {
   "display_name": "Python 3",
   "language": "python",
   "name": "python3"
  },
  "language_info": {
   "codemirror_mode": {
    "name": "ipython",
    "version": 3
   },
   "file_extension": ".py",
   "mimetype": "text/x-python",
   "name": "python",
   "nbconvert_exporter": "python",
   "pygments_lexer": "ipython3",
   "version": "3.8.5"
  }
 },
 "nbformat": 4,
 "nbformat_minor": 4
}
